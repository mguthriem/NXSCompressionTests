{
 "cells": [
  {
   "cell_type": "markdown",
   "id": "09d85ae4-1db2-4981-863b-7bda49477859",
   "metadata": {},
   "source": [
    "# Compression factor versus mantid file size\n",
    "Mantid algorithm `CompressEvents` allows me to down sample data. Here, I first create super pixels, then group events according from a downsampled wall clock resolution and downsamples TOF resolution. The potential for compression depends on the total number of events within the resulting \"Super box\": as these can be replaced with a single weighted event. Here, I'll try to quantify that using three reference datasets, each with different numbers of events."
   ]
  },
  {
   "cell_type": "code",
   "execution_count": 10,
   "id": "721a57e2-f41a-4edb-830b-f1b44281daa1",
   "metadata": {},
   "outputs": [
    {
     "data": {
      "text/plain": [
       "EventWorkspace\n",
       "Title: V pin, 850 um hBN collimator with Cd, 1.8A\n",
       "Histograms: 1179648\n",
       "Bins: 500\n",
       "Histogram\n",
       "X axis: Time-of-flight / microsecond\n",
       "Y axis: Counts\n",
       "Distribution: False\n",
       "Instrument: SNAP (2018-May-01 to 2100-Jan-31)Instrument from: /Users/66j/Documents/ORNL/code/nexpyTest/SNAP_53369.nxs.h5\n",
       "\n",
       "Parameters from: /Users/66j/miniconda3/envs/mantidenv/instrument/SNAP_Parameters.xml\n",
       "Run start: 2022-Jan-31 02:56:16\n",
       "Run end:  2022-Jan-31 05:59:35\n",
       "\n",
       "Events: 106364875"
      ]
     },
     "execution_count": 10,
     "metadata": {},
     "output_type": "execute_result"
    }
   ],
   "source": [
    "from mantid.simpleapi import *\n",
    "import matplotlib.pyplot as plt\n",
    "import numpy as np\n",
    "\n",
    "#load datasets\n",
    "\n",
    "#small run\n",
    "#LoadEventNexus(Filename='/Users/66j/Documents/ORNL/code/nexpyTest/SNAP_52145.nxs.h5',OutputWorkspace='SNAP52145')\n",
    "#medium run\n",
    "#LoadEventNexus(Filename='/Users/66j/Documents/ORNL/code/nexpyTest/SNAP_53959.nxs.h5', OutputWorkspace='SNAP53959')\n",
    "#large run\n",
    "#LoadEventNexus(Filename='/Users/66j/Documents/ORNL/code/nexpyTest/SNAP_53369.nxs.h5', OutputWorkspace='SNAP53369')"
   ]
  },
  {
   "cell_type": "code",
   "execution_count": 21,
   "id": "b0f5a06c-c083-4b2e-acd6-633169516af6",
   "metadata": {},
   "outputs": [
    {
     "data": {
      "text/plain": [
       "EventWorkspace\n",
       "Title: V pin, 850 um hBN collimator with Cd, 1.8A\n",
       "Histograms: 18432\n",
       "Bins: 500\n",
       "Histogram\n",
       "X axis: Time-of-flight / microsecond\n",
       "Y axis: Counts\n",
       "Distribution: False\n",
       "Instrument: SNAP (2018-May-01 to 2100-Jan-31)Instrument from: /Users/66j/Documents/ORNL/code/nexpyTest/SNAP_53369.nxs.h5\n",
       "\n",
       "Parameters from: /Users/66j/miniconda3/envs/mantidenv/instrument/SNAP_Parameters.xml\n",
       "Run start: 2022-Jan-31 02:56:16\n",
       "Run end:  2022-Jan-31 05:59:35\n",
       "\n",
       "Events: 101448150 (weighted)"
      ]
     },
     "execution_count": 21,
     "metadata": {},
     "output_type": "execute_result"
    }
   ],
   "source": [
    "#Compression parameters:\n",
    "delt = 60 #wall clock resolution (in seconds)\n",
    "delT = 10 #TOF resolution in us\n",
    "pixEdge = 8 #superPixel dimension in number of native pixels\n",
    "\n",
    "#SumNeighbours(InputWorkspace='SNAP52145', OutputWorkspace='SNAP52145_8x8', SumX=pixEdge, SumY=pixEdge)\n",
    "#CompressEvents(InputWorkspace='SNAP52145_8x8', OutputWorkspace='SNAP52145_8x8c', Tolerance=delT, WallClockTolerance=delt)\n",
    "\n",
    "#SumNeighbours(InputWorkspace='SNAP53959', OutputWorkspace='SNAP53959_8x8', SumX=pixEdge, SumY=pixEdge)\n",
    "#CompressEvents(InputWorkspace='SNAP53959_8x8', OutputWorkspace='SNAP53959_8x8c', Tolerance=delT, WallClockTolerance=delt)\n",
    "\n",
    "#SumNeighbours(InputWorkspace='SNAP53369', OutputWorkspace='SNAP53369_8x8', SumX=pixEdge, SumY=pixEdge)\n",
    "#DeleteWorkspace(Workspace='SNAP53369')\n",
    "#CompressEvents(InputWorkspace='SNAP53369_8x8', OutputWorkspace='SNAP53369_8x8c', Tolerance=delT, WallClockTolerance=delt)"
   ]
  },
  {
   "cell_type": "code",
   "execution_count": 24,
   "id": "b802a07e-cc11-4020-b789-bba02173c27c",
   "metadata": {},
   "outputs": [],
   "source": [
    "DeleteWorkspaces(['SNAP52145_8x8c','SNAP52145_8x8'])"
   ]
  },
  {
   "cell_type": "code",
   "execution_count": 22,
   "id": "1d540471-e0cd-42d0-b4eb-4d9650668b35",
   "metadata": {},
   "outputs": [
    {
     "name": "stdout",
     "output_type": "stream",
     "text": [
      "Dataset 1 original events: 16.38 MEvents, Compression ratio = 0.98\n",
      "Dataset 2 original events: 106.36 MEvents, Compression ratio = 0.95\n",
      "Dataset 3 original events: 1719.09 MEvents, Compression ratio = 0.20\n"
     ]
    }
   ],
   "source": [
    "ws1 = mtd['SNAP52145']\n",
    "NEvNative1 = ws1.getNumberEvents()/1e6\n",
    "ws1c = mtd['SNAP52145_8x8c']\n",
    "NEvComp1 = ws1c.getNumberEvents()/1e6\n",
    "cRat1 = NEvComp1/NEvNative1\n",
    "print(f'Dataset 1 original events: {NEvNative1:.2f} MEvents, Compression ratio = {cRat1:.2f}')\n",
    "\n",
    "ws2 = mtd['SNAP53959']\n",
    "NEvNative2 = ws2.getNumberEvents()/1e6\n",
    "ws2c = mtd['SNAP53959_8x8c']\n",
    "NEvComp2 = ws2c.getNumberEvents()/1e6\n",
    "cRat2 = NEvComp2/NEvNative2\n",
    "print(f'Dataset 2 original events: {NEvNative2:.2f} MEvents, Compression ratio = {cRat2:.2f}')\n",
    "\n",
    "# ws3 = mtd['SNAP53369_8x8']\n",
    "# NEvNative3 = ws3.getNumberEvents()/1e6\n",
    "# ws3c = mtd['SNAP53369_8x8c']\n",
    "#NEvComp3 = ws3c.getNumberEvents()/1e6\n",
    "#cRat3 = NEvComp3/NEvNative3\n",
    "cRat3 = 0.20\n",
    "print(f'Dataset 3 original events: {NEvNative3:.2f} MEvents, Compression ratio = {cRat3:.2f}')"
   ]
  },
  {
   "cell_type": "code",
   "execution_count": null,
   "id": "191bcf9d-c67a-4a66-885f-2ed4a1c67c1f",
   "metadata": {},
   "outputs": [],
   "source": []
  },
  {
   "cell_type": "code",
   "execution_count": 20,
   "id": "2d74afa9-f069-4d05-a6d0-4de9c49db65c",
   "metadata": {},
   "outputs": [
    {
     "data": {
      "image/png": "[encoded data removed]",
      "text/plain": [
       "<Figure size 432x288 with 1 Axes>"
      ]
     },
     "metadata": {
      "needs_background": "light"
     },
     "output_type": "display_data"
    }
   ],
   "source": [
    "fig = plt.figure()\n",
    "ax = fig.add_subplot(111)\n",
    "ax.set_ylabel('Compression Ratio')\n",
    "ax.set_xlabel('Original events (MEvents)')\n",
    "line = ax.plot( [NEvNative1,NEvNative2,NEvNative3],[cRat1,cRat2,cRat3],marker='o')\n",
    "plt.show()"
   ]
  },
  {
   "cell_type": "code",
   "execution_count": null,
   "id": "5d0bd096-35e1-4471-b91e-b86221c99bc2",
   "metadata": {},
   "outputs": [],
   "source": []
  }
 ],
 "metadata": {
  "kernelspec": {
   "display_name": "Python 3",
   "language": "python",
   "name": "python3"
  },
  "language_info": {
   "codemirror_mode": {
    "name": "ipython",
    "version": 3
   },
   "file_extension": ".py",
   "mimetype": "text/x-python",
   "name": "python",
   "nbconvert_exporter": "python",
   "pygments_lexer": "ipython3",
   "version": "3.8.12"
  }
 },
 "nbformat": 4,
 "nbformat_minor": 5
}
